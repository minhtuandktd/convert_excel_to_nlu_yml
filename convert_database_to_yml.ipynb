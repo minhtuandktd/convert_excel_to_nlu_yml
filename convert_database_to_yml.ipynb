{
 "cells": [
  {
   "cell_type": "code",
   "execution_count": 20,
   "metadata": {},
   "outputs": [],
   "source": [
    "import os\n",
    "from pymongo import MongoClient\n",
    "import re\n",
    "\n",
    "PATH = os.getcwd()"
   ]
  },
  {
   "cell_type": "code",
   "execution_count": 5,
   "metadata": {},
   "outputs": [],
   "source": [
    "client = MongoClient(\"mongodb://10.0.0.138:27017/\")\n",
    "db = client[\"rasa\"]\n",
    "collection = db[\"training_data\"] "
   ]
  },
  {
   "cell_type": "code",
   "execution_count": 49,
   "metadata": {},
   "outputs": [],
   "source": [
    "# Write NLU YML:\n",
    "f1 = open(PATH + \"/nlu.yml\", \"w\")\n",
    "f2 = open(PATH  + \"/domain.yml\", \"w\")\n",
    "f3 = open(PATH + \"/rules.yml\", \"w\")\n",
    "\n",
    "f1.write(\"version: '3.1' \\nnlu: \\n\")\n",
    "f1.write(\"\\n- intent: \" + \"xin_chao\" + \"\\n\" + \"  examples: |\\n\")\n",
    "line = \"\"\"    - Xin chào\n",
    "    - Hello\n",
    "    - Chào bạn\n",
    "    - Hi\n",
    "    \"\"\"\n",
    "f1.write(line)\n",
    "f1.write(\"\\n- intent: \" + \"cam_on\" + \"\\n\" + \"  examples: |\\n\")\n",
    "line = \"\"\"    - Cảm ơn bạn\n",
    "    - Thank you\\n\n",
    "    \"\"\"\n",
    "f1.write(line)\n",
    "\n",
    "f2.write(\"version: '3.1' \\n\")\n",
    "f2.write(\"intents:\\n\")\n",
    "f2.write(\"- xin_chao \\n- cam_on\\n\\n\")\n",
    "\n",
    "f3.write(\"version: '3.1' \\n\")\n",
    "f3.write(\"rules:\\n\")\n",
    "f3.write(\"\"\"- rule: rule_xin_chao\n",
    "  steps:\n",
    "  - intent: xin_chao\n",
    "  - action: utter_xin_chao\\n\\n\"\"\")\n",
    "\n",
    "items = collection.find()\n",
    "for item in items:\n",
    "    # print(item[\"_id\"])\n",
    "    # print(item[\"examples\"])\n",
    "    # print(item[\"response\"])\n",
    "\n",
    "    line = \"\\n- intent: \" + \"intent_\" + str(item[\"_id\"]) + \"\\n\" + \"  examples: |\\n\"\n",
    "    f1.write(line)\n",
    "    for example in item[\"examples\"]:\n",
    "        # new_example = re.sub(r'[^\\w\\s]', '', example)\n",
    "        new_example = example.replace(\"\\n\", \" \")\n",
    "        line = \"    - \" + str(new_example) + \"\\n\"\n",
    "        f1.write(line)\n",
    "\n",
    "    line = \"- \" + \"intent_\" + str(item[\"_id\"]) + \"\\n\"\n",
    "    f2.write(line)\n",
    "\n",
    "    line = \"\\n- rule: \" + \"rule_\" + str(item[\"_id\"]) + \"\\n  steps:\"\n",
    "    f3.write(line)\n",
    "    line = \"\\n  - intent: intent_\" + str(item[\"_id\"]) \n",
    "    f3.write(line)\n",
    "    line = \"\\n  - action: utter_\" + str(item[\"_id\"]) + \"\\n\"\n",
    "    f3.write(line)\n",
    "\n",
    "f2.write(\"\\n\\nresponses:\\n\")\n",
    "f2.write(\"  utter_xin_chao:\\n\")\n",
    "f2.write(\"    - text: \\\"Xin chào bạn.\\\"\\n\\n\")\n",
    "f2.write(\"  utter_default:\\n\")\n",
    "f2.write(\"    - text: \\\"Tôi xin lỗi, Tôi chưa có thông tin để trả lời bạn.\\\"\\n\\n\")\n",
    "items = collection.find()\n",
    "for item in items:\n",
    "    line = \"  utter_\" + str(item[\"_id\"]) + \":\\n\" + \"    - text: \" + \"\\\"\" + item[\"response\"] + \"\\\"\" + \"\\n\" + \"\\n\"\n",
    "    f2.write(line)\n",
    "\n",
    "\n",
    "\n",
    "f1.close()\n",
    "f2.close()\n",
    "f3.close()"
   ]
  }
 ],
 "metadata": {
  "kernelspec": {
   "display_name": "common",
   "language": "python",
   "name": "python3"
  },
  "language_info": {
   "codemirror_mode": {
    "name": "ipython",
    "version": 3
   },
   "file_extension": ".py",
   "mimetype": "text/x-python",
   "name": "python",
   "nbconvert_exporter": "python",
   "pygments_lexer": "ipython3",
   "version": "3.9.17"
  },
  "orig_nbformat": 4
 },
 "nbformat": 4,
 "nbformat_minor": 2
}
