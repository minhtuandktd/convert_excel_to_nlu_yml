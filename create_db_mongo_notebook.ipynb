{
 "cells": [
  {
   "cell_type": "code",
   "execution_count": 1,
   "metadata": {},
   "outputs": [],
   "source": [
    "import os\n",
    "from pymongo import MongoClient\n",
    "\n",
    "import pandas as pd\n",
    "import os\n",
    "import openpyxl\n",
    "import html\n",
    "\n",
    "pd.set_option('max_colwidth', None)\n",
    "\n",
    "PATH = os.getcwd()"
   ]
  },
  {
   "cell_type": "code",
   "execution_count": 2,
   "metadata": {},
   "outputs": [],
   "source": [
    "df = pd.read_excel(PATH + \"/Data_ChatHDSD.xlsx\", sheet_name=\"Sheet1\")\n",
    "# df.head(5)"
   ]
  },
  {
   "cell_type": "code",
   "execution_count": 3,
   "metadata": {},
   "outputs": [],
   "source": [
    "# df[\"RESPONSE\"] = df[\"RESPONSE\"].apply(html.unescape)\n",
    "df['RESPONSE'] = df['RESPONSE'].apply(lambda x: html.unescape(x) if isinstance(x, str) else x)\n",
    "df['EXAMPLE'] = df['EXAMPLE'].apply(lambda x: html.unescape(x) if isinstance(x, str) else x)\n",
    "\n",
    "df['RESPONSE'] = df['RESPONSE'].str.replace(\"\\\"\", \"'\")\n",
    "df['RESPONSE'] = df['RESPONSE'].str.replace(\"*\", \"+\")"
   ]
  },
  {
   "cell_type": "code",
   "execution_count": 4,
   "metadata": {},
   "outputs": [],
   "source": [
    "my_list = []\n",
    "qa = {}\n",
    "for i, stt in enumerate(df[\"STT\"]):\n",
    "    if not df[\"STT\"].isnull()[i]:\n",
    "        my_list.append(qa)\n",
    "        qa = {}\n",
    "        # qa[\"_id\"] = int(stt)\n",
    "        qa[\"examples\"] = [df[\"EXAMPLE\"][i]]\n",
    "        qa[\"response\"] = df[\"RESPONSE\"][i]\n",
    "    else:\n",
    "        qa[\"examples\"].append(df[\"EXAMPLE\"][i])\n",
    "\n",
    "    if i == len(df[\"STT\"]) - 1:\n",
    "        my_list.append(qa)\n",
    "\n",
    "my_list = my_list[1:]"
   ]
  },
  {
   "cell_type": "code",
   "execution_count": 34,
   "metadata": {},
   "outputs": [
    {
     "data": {
      "text/plain": [
       "152"
      ]
     },
     "execution_count": 34,
     "metadata": {},
     "output_type": "execute_result"
    }
   ],
   "source": [
    "len(df[\"STT\"])"
   ]
  },
  {
   "cell_type": "code",
   "execution_count": 8,
   "metadata": {},
   "outputs": [],
   "source": [
    "client = MongoClient(\"mongodb://103.9.211.87:27017/\")\n",
    "db = client[\"rasa\"]"
   ]
  },
  {
   "cell_type": "code",
   "execution_count": 9,
   "metadata": {},
   "outputs": [],
   "source": [
    "collection = db[\"training_data\"]"
   ]
  },
  {
   "cell_type": "code",
   "execution_count": 10,
   "metadata": {},
   "outputs": [
    {
     "data": {
      "text/plain": [
       "<pymongo.results.InsertManyResult at 0x7f381f3cae00>"
      ]
     },
     "execution_count": 10,
     "metadata": {},
     "output_type": "execute_result"
    }
   ],
   "source": [
    "# mylist = [\n",
    "#   { \"_id\": 1, \"examples\": [\"KSK01 in không ra dữ liệu NB\", \"KSK01 in không ra dữ liệu NB\"], \"response\": \"Bước 1: Xin tiêu chí in Bước 2: Hợp đồng in không ra NB thì vào màn hình danh sách người bệnh đã tiếp đón --> Tìm theo công ty xem công ty đó đã được Tiếp đón KSK hay chưa? + Nếu chưa thì không lên báo cáo KSK --> Cần báo người dùng tiếp nhận lại + Nếu rồi, vào màn hình Hồ sơ bệnh án check tiếp\"},\n",
    "# ]\n",
    "collection.insert_many(my_list)"
   ]
  },
  {
   "cell_type": "code",
   "execution_count": 31,
   "metadata": {},
   "outputs": [
    {
     "name": "stdout",
     "output_type": "stream",
     "text": [
      "{'_id': ObjectId('650807a61329ec34a0f9ad42'), 'examples': ['fhagh', 'agasfd'], 'response': 'abc'}\n"
     ]
    }
   ],
   "source": [
    "id_intent = \"650807a61329ec34a0f9ad42\"\n",
    "# example = \"KSK01 in không ra dữ liệu\"\n",
    "items = collection.find()\n",
    "\n",
    "\n",
    "for item in items:\n",
    "    if str(item[\"_id\"]) == id_intent:\n",
    "        print(item)\n",
    "        # update_item = item\n",
    "        # update_item[\"examples\"].append(example)\n",
    "        # print(update_item)\n",
    "        # collection.replace_one({\"_id\": update_item[\"_id\"]}, update_item)   "
   ]
  }
 ],
 "metadata": {
  "kernelspec": {
   "display_name": "common",
   "language": "python",
   "name": "python3"
  },
  "language_info": {
   "codemirror_mode": {
    "name": "ipython",
    "version": 3
   },
   "file_extension": ".py",
   "mimetype": "text/x-python",
   "name": "python",
   "nbconvert_exporter": "python",
   "pygments_lexer": "ipython3",
   "version": "3.9.17"
  },
  "orig_nbformat": 4
 },
 "nbformat": 4,
 "nbformat_minor": 2
}
